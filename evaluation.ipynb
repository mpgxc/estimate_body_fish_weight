{
 "cells": [
  {
   "cell_type": "code",
   "execution_count": 1,
   "id": "140576ba-b866-4537-a0c2-65d11a26576d",
   "metadata": {},
   "outputs": [],
   "source": [
    "import numpy as np\n",
    "import tifffile\n",
    "\n",
    "from tqdm import tqdm\n",
    "from glob import glob\n",
    "from commons import plot"
   ]
  },
  {
   "cell_type": "code",
   "execution_count": 2,
   "id": "7331c789-d3fc-4fc7-8077-4e988502ade4",
   "metadata": {},
   "outputs": [],
   "source": [
    "def dice_metric(pred, true, k=255):\n",
    "    \"\"\"\n",
    "        K = Representa a escala das imagens, ou seja 0 <= 1\n",
    "        Valores possiveis:\n",
    "        K = 1\n",
    "        K = 255\n",
    "    \"\"\"\n",
    "    intersection = np.sum(pred[true == k]) * 2.0\n",
    "    dice = intersection / (np.sum(pred) + np.sum(true))\n",
    "    \n",
    "    return dice\n",
    "\n",
    "def iou_metric(arr_preds, arr_true):\n",
    "    \"\"\"\n",
    "        Essa função calcula a diferença entre dois arrays, métrica IoU\n",
    "    \"\"\"\n",
    "    \n",
    "    intersection = np.logical_and(arr_preds, arr_true)\n",
    "    \n",
    "    union = np.logical_or(arr_preds, arr_true)\n",
    "    \n",
    "    iou_score = np.sum(intersection) / np.sum(union)\n",
    "    \n",
    "    return iou_score\n",
    "        \n",
    "    \n",
    "def read_images(paths):\n",
    "    return [tifffile.imread(img_path) for img_path in tqdm(glob(paths + '/*'))]\n",
    "\n",
    "def calculate_mean_metric(pred, true, fn_metric):\n",
    "\n",
    "    return sum([fn_metric(t, p) for t, p in zip(true, pred)]) / len(true)"
   ]
  },
  {
   "cell_type": "code",
   "execution_count": 3,
   "id": "f5dce5bd-77b5-41af-8b9f-d89586d09b35",
   "metadata": {},
   "outputs": [
    {
     "name": "stderr",
     "output_type": "stream",
     "text": [
      "0it [00:00, ?it/s]\n",
      "0it [00:00, ?it/s]\n",
      "0it [00:00, ?it/s]\n",
      "0it [00:00, ?it/s]\n"
     ]
    }
   ],
   "source": [
    "true_masks = read_images(\"dataset_readjusted/masks\")\n",
    "adaptive_threshold_masks = read_images(\"Resultado da Segmentação/adaptive_threshold\")\n",
    "sobel_canny = read_images(\"Resultado da Segmentação/sobel_canny\")\n",
    "diff_seg = read_images(\"Resultado da Segmentação/diff_seg\")"
   ]
  },
  {
   "cell_type": "code",
   "execution_count": 4,
   "id": "8dff3dc3-aea8-428a-9dc9-40db145bf406",
   "metadata": {},
   "outputs": [
    {
     "ename": "IndexError",
     "evalue": "list index out of range",
     "output_type": "error",
     "traceback": [
      "\u001b[0;31m---------------------------------------------------------------------------\u001b[0m",
      "\u001b[0;31mIndexError\u001b[0m                                Traceback (most recent call last)",
      "Input \u001b[0;32mIn [4]\u001b[0m, in \u001b[0;36m<cell line: 2>\u001b[0;34m()\u001b[0m\n\u001b[1;32m      1\u001b[0m index \u001b[38;5;241m=\u001b[39m \u001b[38;5;241m0\u001b[39m\n\u001b[0;32m----> 2\u001b[0m plot([\u001b[43mtrue_masks\u001b[49m\u001b[43m[\u001b[49m\u001b[43mindex\u001b[49m\u001b[43m]\u001b[49m, \n\u001b[1;32m      3\u001b[0m       sobel_canny[index], \n\u001b[1;32m      4\u001b[0m       adaptive_threshold_masks[index],\n\u001b[1;32m      5\u001b[0m       diff_seg[index]], (\u001b[38;5;241m1\u001b[39m, \u001b[38;5;241m4\u001b[39m))\n",
      "\u001b[0;31mIndexError\u001b[0m: list index out of range"
     ]
    }
   ],
   "source": [
    "index = 0\n",
    "plot([true_masks[index], \n",
    "      sobel_canny[index], \n",
    "      adaptive_threshold_masks[index],\n",
    "      diff_seg[index]], (1, 4))"
   ]
  },
  {
   "cell_type": "markdown",
   "id": "7209981b-358e-42f0-9a7c-8179101058a3",
   "metadata": {},
   "source": [
    "## Dice"
   ]
  },
  {
   "cell_type": "code",
   "execution_count": 5,
   "id": "24ed5515-104b-47d4-876c-77ad98705ec8",
   "metadata": {},
   "outputs": [
    {
     "ename": "ZeroDivisionError",
     "evalue": "division by zero",
     "output_type": "error",
     "traceback": [
      "\u001b[0;31m---------------------------------------------------------------------------\u001b[0m",
      "\u001b[0;31mZeroDivisionError\u001b[0m                         Traceback (most recent call last)",
      "Input \u001b[0;32mIn [5]\u001b[0m, in \u001b[0;36m<cell line: 1>\u001b[0;34m()\u001b[0m\n\u001b[0;32m----> 1\u001b[0m \u001b[43mcalculate_mean_metric\u001b[49m\u001b[43m(\u001b[49m\u001b[43msobel_canny\u001b[49m\u001b[43m,\u001b[49m\u001b[43m \u001b[49m\u001b[43mtrue_masks\u001b[49m\u001b[43m,\u001b[49m\u001b[43m \u001b[49m\u001b[43mdice_metric\u001b[49m\u001b[43m)\u001b[49m,\\\n\u001b[1;32m      2\u001b[0m calculate_mean_metric(adaptive_threshold_masks, true_masks, dice_metric),\\\n\u001b[1;32m      3\u001b[0m calculate_mean_metric(diff_seg, true_masks, dice_metric)\n",
      "Input \u001b[0;32mIn [2]\u001b[0m, in \u001b[0;36mcalculate_mean_metric\u001b[0;34m(pred, true, fn_metric)\u001b[0m\n\u001b[1;32m     30\u001b[0m \u001b[38;5;28;01mdef\u001b[39;00m \u001b[38;5;21mcalculate_mean_metric\u001b[39m(pred, true, fn_metric):\n\u001b[0;32m---> 32\u001b[0m     \u001b[38;5;28;01mreturn\u001b[39;00m \u001b[38;5;28;43msum\u001b[39;49m\u001b[43m(\u001b[49m\u001b[43m[\u001b[49m\u001b[43mfn_metric\u001b[49m\u001b[43m(\u001b[49m\u001b[43mt\u001b[49m\u001b[43m,\u001b[49m\u001b[43m \u001b[49m\u001b[43mp\u001b[49m\u001b[43m)\u001b[49m\u001b[43m \u001b[49m\u001b[38;5;28;43;01mfor\u001b[39;49;00m\u001b[43m \u001b[49m\u001b[43mt\u001b[49m\u001b[43m,\u001b[49m\u001b[43m \u001b[49m\u001b[43mp\u001b[49m\u001b[43m \u001b[49m\u001b[38;5;129;43;01min\u001b[39;49;00m\u001b[43m \u001b[49m\u001b[38;5;28;43mzip\u001b[39;49m\u001b[43m(\u001b[49m\u001b[43mtrue\u001b[49m\u001b[43m,\u001b[49m\u001b[43m \u001b[49m\u001b[43mpred\u001b[49m\u001b[43m)\u001b[49m\u001b[43m]\u001b[49m\u001b[43m)\u001b[49m\u001b[43m \u001b[49m\u001b[38;5;241;43m/\u001b[39;49m\u001b[43m \u001b[49m\u001b[38;5;28;43mlen\u001b[39;49m\u001b[43m(\u001b[49m\u001b[43mtrue\u001b[49m\u001b[43m)\u001b[49m\n",
      "\u001b[0;31mZeroDivisionError\u001b[0m: division by zero"
     ]
    }
   ],
   "source": [
    "calculate_mean_metric(sobel_canny, true_masks, dice_metric),\\\n",
    "calculate_mean_metric(adaptive_threshold_masks, true_masks, dice_metric),\\\n",
    "calculate_mean_metric(diff_seg, true_masks, dice_metric)"
   ]
  },
  {
   "cell_type": "markdown",
   "id": "f77fcef1-36af-414d-9510-2810caf1fc4f",
   "metadata": {},
   "source": [
    "## IoU"
   ]
  },
  {
   "cell_type": "code",
   "execution_count": 6,
   "id": "a9e84394-6b0d-4a10-9c7a-7e8231b1784b",
   "metadata": {},
   "outputs": [
    {
     "ename": "ZeroDivisionError",
     "evalue": "division by zero",
     "output_type": "error",
     "traceback": [
      "\u001b[0;31m---------------------------------------------------------------------------\u001b[0m",
      "\u001b[0;31mZeroDivisionError\u001b[0m                         Traceback (most recent call last)",
      "Input \u001b[0;32mIn [6]\u001b[0m, in \u001b[0;36m<cell line: 1>\u001b[0;34m()\u001b[0m\n\u001b[0;32m----> 1\u001b[0m \u001b[43mcalculate_mean_metric\u001b[49m\u001b[43m(\u001b[49m\u001b[43msobel_canny\u001b[49m\u001b[43m,\u001b[49m\u001b[43m \u001b[49m\u001b[43mtrue_masks\u001b[49m\u001b[43m,\u001b[49m\u001b[43m \u001b[49m\u001b[43miou_metric\u001b[49m\u001b[43m)\u001b[49m,\\\n\u001b[1;32m      2\u001b[0m calculate_mean_metric(adaptive_threshold_masks, true_masks, iou_metric),\\\n\u001b[1;32m      3\u001b[0m calculate_mean_metric(diff_seg, true_masks, iou_metric)\n",
      "Input \u001b[0;32mIn [2]\u001b[0m, in \u001b[0;36mcalculate_mean_metric\u001b[0;34m(pred, true, fn_metric)\u001b[0m\n\u001b[1;32m     30\u001b[0m \u001b[38;5;28;01mdef\u001b[39;00m \u001b[38;5;21mcalculate_mean_metric\u001b[39m(pred, true, fn_metric):\n\u001b[0;32m---> 32\u001b[0m     \u001b[38;5;28;01mreturn\u001b[39;00m \u001b[38;5;28;43msum\u001b[39;49m\u001b[43m(\u001b[49m\u001b[43m[\u001b[49m\u001b[43mfn_metric\u001b[49m\u001b[43m(\u001b[49m\u001b[43mt\u001b[49m\u001b[43m,\u001b[49m\u001b[43m \u001b[49m\u001b[43mp\u001b[49m\u001b[43m)\u001b[49m\u001b[43m \u001b[49m\u001b[38;5;28;43;01mfor\u001b[39;49;00m\u001b[43m \u001b[49m\u001b[43mt\u001b[49m\u001b[43m,\u001b[49m\u001b[43m \u001b[49m\u001b[43mp\u001b[49m\u001b[43m \u001b[49m\u001b[38;5;129;43;01min\u001b[39;49;00m\u001b[43m \u001b[49m\u001b[38;5;28;43mzip\u001b[39;49m\u001b[43m(\u001b[49m\u001b[43mtrue\u001b[49m\u001b[43m,\u001b[49m\u001b[43m \u001b[49m\u001b[43mpred\u001b[49m\u001b[43m)\u001b[49m\u001b[43m]\u001b[49m\u001b[43m)\u001b[49m\u001b[43m \u001b[49m\u001b[38;5;241;43m/\u001b[39;49m\u001b[43m \u001b[49m\u001b[38;5;28;43mlen\u001b[39;49m\u001b[43m(\u001b[49m\u001b[43mtrue\u001b[49m\u001b[43m)\u001b[49m\n",
      "\u001b[0;31mZeroDivisionError\u001b[0m: division by zero"
     ]
    }
   ],
   "source": [
    "calculate_mean_metric(sobel_canny, true_masks, iou_metric),\\\n",
    "calculate_mean_metric(adaptive_threshold_masks, true_masks, iou_metric),\\\n",
    "calculate_mean_metric(diff_seg, true_masks, iou_metric)"
   ]
  },
  {
   "cell_type": "markdown",
   "id": "ae788f75-b70e-490f-a72c-9a4f77da8cda",
   "metadata": {},
   "source": [
    "### Referência: https://towardsdatascience.com/evaluating-image-segmentation-models-1e9bb89a001b"
   ]
  },
  {
   "cell_type": "code",
   "execution_count": null,
   "id": "c4a042d5-4627-4cb0-931b-73f541dc1bcd",
   "metadata": {},
   "outputs": [],
   "source": []
  }
 ],
 "metadata": {
  "kernelspec": {
   "display_name": "Python 3 (ipykernel)",
   "language": "python",
   "name": "python3"
  },
  "language_info": {
   "codemirror_mode": {
    "name": "ipython",
    "version": 3
   },
   "file_extension": ".py",
   "mimetype": "text/x-python",
   "name": "python",
   "nbconvert_exporter": "python",
   "pygments_lexer": "ipython3",
   "version": "3.9.12"
  }
 },
 "nbformat": 4,
 "nbformat_minor": 5
}
