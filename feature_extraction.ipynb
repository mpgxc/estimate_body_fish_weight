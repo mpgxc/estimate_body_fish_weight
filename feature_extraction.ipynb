{
 "cells": [
  {
   "cell_type": "code",
   "execution_count": 1,
   "id": "b4a84a21-f658-4244-a68b-ed070634841d",
   "metadata": {},
   "outputs": [],
   "source": [
    "import pandas as pd\n",
    "\n",
    "from tqdm import tqdm \n",
    "from glob import glob\n",
    "from skimage.io import imread\n",
    "from skimage.color import rgb2gray\n",
    "from skimage.measure import label, regionprops_table\n",
    "from skimage.transform import resize\n",
    "\n",
    "from commons import binarize_image"
   ]
  },
  {
   "cell_type": "code",
   "execution_count": 2,
   "id": "4d63c1b5-c0b3-45ac-9c40-54570cd5eca6",
   "metadata": {},
   "outputs": [],
   "source": [
    "def extract_props_from_image(mask):\n",
    "    \n",
    "    label_image = label(mask)\n",
    "\n",
    "    feature_names = ['area',\n",
    "                     'bbox',\n",
    "                     'bbox_area',\n",
    "                     'centroid', \n",
    "                     'convex_area', \n",
    "                     'eccentricity',\n",
    "                     'equivalent_diameter', \n",
    "                     'euler_number',\n",
    "                     'extent',\n",
    "                     'filled_area',\n",
    "                     'label',\n",
    "                     'major_axis_length',\n",
    "                     'minor_axis_length',\n",
    "                     'moments',\n",
    "                     'moments_central',\n",
    "                     'orientation',\n",
    "                     'perimeter',\n",
    "                     'feret_diameter_max',\n",
    "                     'solidity']\n",
    "    \n",
    "    return pd.DataFrame(regionprops_table(label_image, properties=feature_names))"
   ]
  },
  {
   "cell_type": "code",
   "execution_count": 3,
   "id": "d01d0839-b081-4f1b-9bb3-955ba7714dc8",
   "metadata": {},
   "outputs": [
    {
     "name": "stderr",
     "output_type": "stream",
     "text": [
      "100%|██████████████████████████████| 100/100 [01:08<00:00,  1.46it/s]\n"
     ]
    }
   ],
   "source": [
    "out = pd.DataFrame()\n",
    "\n",
    "path = \"data/coletas/combined/masks/*\"\n",
    "\n",
    "for index in tqdm(glob(path)):\n",
    "    \n",
    "    try:\n",
    "        \n",
    "        image = imread(index)\n",
    "        image_resized = resize(image, (224, 224), anti_aliasing=True)\n",
    "        mask = binarize_image(image_resized)\n",
    "        props = extract_props_from_image(mask)\n",
    "        \n",
    "        props['label'] = index.split('/')[-1]\n",
    "\n",
    "        out = pd.concat([out, props], ignore_index=True)\n",
    "    except Exception as e:\n",
    "        print(\"Erro na imagem:\", index, e)"
   ]
  },
  {
   "cell_type": "code",
   "execution_count": 4,
   "id": "36ad7d9f-3207-4546-a5f4-e97ad49857e8",
   "metadata": {},
   "outputs": [],
   "source": [
    "out.to_csv('features.csv', index=None)"
   ]
  },
  {
   "cell_type": "code",
   "execution_count": null,
   "id": "f7973fa3-f724-484b-8291-7da5702461c4",
   "metadata": {},
   "outputs": [],
   "source": []
  }
 ],
 "metadata": {
  "kernelspec": {
   "display_name": "Python 3 (ipykernel)",
   "language": "python",
   "name": "python3"
  },
  "language_info": {
   "codemirror_mode": {
    "name": "ipython",
    "version": 3
   },
   "file_extension": ".py",
   "mimetype": "text/x-python",
   "name": "python",
   "nbconvert_exporter": "python",
   "pygments_lexer": "ipython3",
   "version": "3.9.13"
  }
 },
 "nbformat": 4,
 "nbformat_minor": 5
}
