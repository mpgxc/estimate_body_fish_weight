{
 "cells": [
  {
   "cell_type": "code",
   "execution_count": 1,
   "id": "1875f256-ec28-44c7-abb4-62003ad580f1",
   "metadata": {},
   "outputs": [],
   "source": [
    "import os\n",
    "\n",
    "from tqdm import tqdm\n",
    "from glob import glob\n",
    "\n",
    "import numpy as np\n",
    "import pandas as pd\n",
    "import seaborn as sns\n",
    "import matplotlib.pyplot as plt\n",
    "\n",
    "from xgboost import XGBRegressor\n",
    "from sklearn.preprocessing import StandardScaler, LabelEncoder, MinMaxScaler, PolynomialFeatures\n",
    "from sklearn.ensemble import RandomForestRegressor, GradientBoostingRegressor, AdaBoostRegressor\n",
    "from sklearn.metrics import mean_squared_error, mean_absolute_error, r2_score, PredictionErrorDisplay\n",
    "from sklearn.linear_model import LinearRegression, ElasticNet, Ridge, Lasso, RANSACRegressor\n",
    "from sklearn.model_selection import cross_val_score, KFold, train_test_split, GridSearchCV\n",
    "from sklearn.decomposition import PCA\n",
    "from sklearn.compose import TransformedTargetRegressor\n",
    "from sklearn.pipeline import make_pipeline\n",
    "from yellowbrick.regressor import PredictionError, residuals_plot\n",
    "from feature_extraction import extract_features_from_images\n",
    "from sklearn.cross_decomposition import PLSRegression"
   ]
  },
  {
   "cell_type": "code",
   "execution_count": 2,
   "id": "47ee1c44-3104-47c6-8ad5-90e632b7b483",
   "metadata": {},
   "outputs": [],
   "source": [
    "import warnings\n",
    "warnings.filterwarnings('ignore')\n",
    "\n",
    "plt.style.use('default')\n",
    "plt.style.use('ggplot')"
   ]
  },
  {
   "cell_type": "code",
   "execution_count": 3,
   "id": "f8c6fe0d-54ec-4e5c-8271-e63bd40823a9",
   "metadata": {},
   "outputs": [],
   "source": [
    "def handle_model_evaluate(true, predicted, title_column=\"\"):  \n",
    "    \n",
    "    mae = mean_absolute_error(true, predicted)\n",
    "    r2_square = r2_score(true, predicted)\n",
    "    \n",
    "    return pd.DataFrame({\n",
    "        f\"{title_column}\": [\n",
    "            mae, \n",
    "            r2_square],\n",
    "    },\n",
    "        index=[\n",
    "            \"MAE\",\n",
    "            \"R-squared\"\n",
    "        ])\n",
    "    \n",
    "def show_model_performance(model, X_train, y_train, X_test, y_test):\n",
    "    \n",
    "    train = handle_model_evaluate(y_train, model.predict(X_train), \"Treino\")\n",
    "    test  = handle_model_evaluate(y_test, model.predict(X_test), \"Teste\")\n",
    "    \n",
    "    display(pd.concat([train, test], axis=1))"
   ]
  },
  {
   "cell_type": "markdown",
   "id": "de86c219-8b67-4c20-b13a-b9612fad42d0",
   "metadata": {},
   "source": [
    "## Extraindo Features das imagens mascaras"
   ]
  },
  {
   "cell_type": "code",
   "execution_count": 4,
   "id": "1b7fc56f-66ec-438d-bbf6-2958f9e95c02",
   "metadata": {},
   "outputs": [],
   "source": [
    "def load_dataset(base_path):\n",
    "    \n",
    "    *_, base_path_last = base_path.split(\"/\")\n",
    "    features_file_name = f\"{base_path_last}_features.csv\"\n",
    "    \n",
    "    if not os.path.isfile(features_file_name):\n",
    "        extract_features_from_images(\n",
    "            images_arr=[],\n",
    "            images_path=f\"{base_path}/masks\",\n",
    "            output_file_name=features_file_name,\n",
    "            resize_shape=(224, 224))\n",
    "    \n",
    "    weights = pd.read_csv(f\"{base_path}/annotations.csv\")\n",
    "    features = pd.read_csv(features_file_name)\n",
    "\n",
    "    weights.index = weights.img\n",
    "    features.index = features.label\n",
    "\n",
    "    weights = weights.drop('img', axis=1)\n",
    "    features = features.drop('label', axis=1)\n",
    "    \n",
    "    data = pd.concat([weights, features],\n",
    "                     axis=1,\n",
    "                     ignore_index=False, \n",
    "                     verify_integrity=True)\n",
    "\n",
    "    data = data.reset_index()\n",
    "    \n",
    "    return data"
   ]
  },
  {
   "cell_type": "code",
   "execution_count": 5,
   "id": "494028cc-1a4a-47ef-a509-28660f91294d",
   "metadata": {},
   "outputs": [],
   "source": [
    "train = load_dataset(\"data/coletas/combined_v2\")\n",
    "test = load_dataset(\"data/coletas/Dia 29-11-2022 - OK\")"
   ]
  },
  {
   "cell_type": "code",
   "execution_count": 6,
   "id": "665d96d0-ab8a-44bb-8a4e-9ed87510d5b9",
   "metadata": {},
   "outputs": [
    {
     "data": {
      "text/plain": [
       "tambaqui    73\n",
       "tilápia     60\n",
       "curimatã    18\n",
       "panga        7\n",
       "traíra       5\n",
       "lambari      3\n",
       "Name: specie, dtype: int64"
      ]
     },
     "execution_count": 6,
     "metadata": {},
     "output_type": "execute_result"
    }
   ],
   "source": [
    "train.specie.value_counts()"
   ]
  },
  {
   "cell_type": "code",
   "execution_count": 7,
   "id": "06718504-dee0-47c7-b6f2-03a7708517b2",
   "metadata": {},
   "outputs": [
    {
     "data": {
      "text/plain": [
       "tambaqui    75\n",
       "curimatã     2\n",
       "panga        1\n",
       "tilápia      1\n",
       "Name: specie, dtype: int64"
      ]
     },
     "execution_count": 7,
     "metadata": {},
     "output_type": "execute_result"
    }
   ],
   "source": [
    "test.specie.value_counts()"
   ]
  },
  {
   "cell_type": "code",
   "execution_count": 8,
   "id": "479c6b3c-7e79-41c5-aa32-37ba684287e5",
   "metadata": {},
   "outputs": [],
   "source": [
    "enc = LabelEncoder().fit(train.specie.to_list() + test.specie.to_list())\n",
    "train.specie = enc.transform(train.specie.values)\n",
    "test.specie = enc.transform(test.specie.values)"
   ]
  },
  {
   "cell_type": "code",
   "execution_count": 9,
   "id": "ab101b14-679f-4814-837d-ba2aedf05f39",
   "metadata": {},
   "outputs": [
    {
     "data": {
      "text/plain": [
       "specie                -0.511426\n",
       "bbox-0                -0.369371\n",
       "bbox-1                -0.579059\n",
       "moments_central-1-1   -0.227727\n",
       "moments_central-1-2   -0.347628\n",
       "moments_central-1-3   -0.392254\n",
       "moments_central-2-1   -0.446015\n",
       "moments_central-2-3   -0.003000\n",
       "moments_central-3-1   -0.081582\n",
       "moments_central-3-3   -0.323219\n",
       "orientation           -0.131475\n",
       "Name: weight, dtype: float64"
      ]
     },
     "execution_count": 9,
     "metadata": {},
     "output_type": "execute_result"
    }
   ],
   "source": [
    "corrmat = train.corr()\n",
    "corrmat[corrmat.weight < 0].weight"
   ]
  },
  {
   "cell_type": "code",
   "execution_count": 10,
   "id": "09d3c680-58e5-41f1-943a-3d3814cf2fd3",
   "metadata": {},
   "outputs": [
    {
     "data": {
      "text/plain": [
       "weight                 1.000000\n",
       "width                  0.772038\n",
       "length                 0.862963\n",
       "area                   0.954241\n",
       "bbox-2                 0.355345\n",
       "bbox-3                 0.597043\n",
       "bbox_area              0.948547\n",
       "centroid-0             0.012084\n",
       "centroid-1             0.013135\n",
       "convex_area            0.951091\n",
       "eccentricity           0.055461\n",
       "equivalent_diameter    0.918355\n",
       "euler_number           0.056988\n",
       "extent                 0.025896\n",
       "filled_area            0.954241\n",
       "major_axis_length      0.885280\n",
       "minor_axis_length      0.818823\n",
       "moments-0-0            0.954241\n",
       "moments-0-1            0.962304\n",
       "moments-0-2            0.946921\n",
       "moments-0-3            0.925326\n",
       "moments-1-0            0.935787\n",
       "moments-1-1            0.941119\n",
       "moments-1-2            0.927716\n",
       "moments-1-3            0.908200\n",
       "moments-2-0            0.887445\n",
       "moments-2-1            0.885396\n",
       "moments-2-2            0.869973\n",
       "moments-2-3            0.850189\n",
       "moments-3-0            0.817725\n",
       "moments-3-1            0.807975\n",
       "moments-3-2            0.789469\n",
       "moments-3-3            0.768762\n",
       "moments_central-0-0    0.954241\n",
       "moments_central-0-1    0.058940\n",
       "moments_central-0-2    0.938442\n",
       "moments_central-0-3    0.439487\n",
       "moments_central-1-0    0.064789\n",
       "moments_central-2-0    0.885203\n",
       "moments_central-2-2    0.868394\n",
       "moments_central-3-0    0.175147\n",
       "moments_central-3-2    0.076532\n",
       "perimeter              0.908174\n",
       "feret_diameter_max     0.901363\n",
       "solidity               0.290750\n",
       "Name: weight, dtype: float64"
      ]
     },
     "execution_count": 10,
     "metadata": {},
     "output_type": "execute_result"
    }
   ],
   "source": [
    "corrmat[corrmat.weight > 0].weight"
   ]
  },
  {
   "cell_type": "code",
   "execution_count": 11,
   "id": "3387c2f9-f71f-4f43-a949-431452cc6573",
   "metadata": {},
   "outputs": [],
   "source": [
    "features_names = list(dict(corrmat[corrmat.weight > 0.9].weight).keys())"
   ]
  },
  {
   "cell_type": "code",
   "execution_count": 12,
   "id": "0e0d9fca-7064-45d9-a063-f4c35ebc0204",
   "metadata": {},
   "outputs": [],
   "source": [
    "features_names.remove(\"weight\")\n",
    "# features_names.append(\"specie\")"
   ]
  },
  {
   "cell_type": "code",
   "execution_count": 13,
   "id": "3e936ab1-9427-4f6c-a238-b2c2d6e8567e",
   "metadata": {},
   "outputs": [],
   "source": [
    "X_train, X_test, y_train, y_test, index_train, index_test = (train[features_names].values, \n",
    "                                                             test[features_names].values, \n",
    "                                                             train.weight.values,\n",
    "                                                             test.weight.values,\n",
    "                                                             train[\"index\"].tolist(),\n",
    "                                                             test[\"index\"].tolist())"
   ]
  },
  {
   "cell_type": "code",
   "execution_count": 14,
   "id": "2f268823-7f31-4d57-ae5f-3288fe4fcf53",
   "metadata": {},
   "outputs": [],
   "source": [
    "scaler = StandardScaler()\n",
    "\n",
    "X_train_scaled, X_test_scaled = scaler.fit_transform(X_train), scaler.transform(X_test)"
   ]
  },
  {
   "cell_type": "code",
   "execution_count": 15,
   "id": "b19723ad-c44e-4156-9ca4-daee80660f1c",
   "metadata": {},
   "outputs": [],
   "source": [
    "def run_all_algs(X_train, y_train, X_test, y_test):\n",
    "\n",
    "    models = {\n",
    "        \"GradientBoostingRegressor\": GradientBoostingRegressor(),\n",
    "        \"AdaBoostRegressor\": AdaBoostRegressor(),\n",
    "        \"[LinearRegression]\": LinearRegression(),\n",
    "        \"[LassoRegression]\": Lasso(),\n",
    "        \"[RidgeRegression]\": Ridge(),\n",
    "        \"[RandomForestRegressor]\": RandomForestRegressor(),\n",
    "        \"ElasticNet\": ElasticNet(),\n",
    "        \"[RANSACRegressor]\": RANSACRegressor(),\n",
    "        \"[PLSRegression]\": PLSRegression(n_components=2),\n",
    "        \"[PCARegression]\": make_pipeline(PCA(n_components=2), LinearRegression()),\n",
    "        \"[PolyRegression]\": make_pipeline(PolynomialFeatures(degree=2), \n",
    "                                        LinearRegression(fit_intercept=False)),\n",
    "        \"XGBRegressor\": XGBRegressor()\n",
    "    }\n",
    "    \n",
    "    for name, model in models.items():\n",
    "\n",
    "        model.fit(X_train, y_train)\n",
    "        \n",
    "        print(\"\\n\",\"\\b\"+name)\n",
    "        \n",
    "        show_model_performance(model,\n",
    "                               X_train,\n",
    "                               y_train,\n",
    "                               X_test,\n",
    "                               y_test)\n",
    "\n",
    "        print(\"_\" * 20)"
   ]
  },
  {
   "cell_type": "markdown",
   "id": "4eed79be-c65c-4698-8803-6515c1564693",
   "metadata": {},
   "source": [
    "### Features Não Normalizadas"
   ]
  },
  {
   "cell_type": "code",
   "execution_count": 16,
   "id": "f9a9b42e-1963-4039-b52d-68d7b302504e",
   "metadata": {},
   "outputs": [
    {
     "name": "stdout",
     "output_type": "stream",
     "text": [
      "\n",
      "GradientBoostingRegressor\n"
     ]
    },
    {
     "data": {
      "text/html": [
       "<div>\n",
       "<style scoped>\n",
       "    .dataframe tbody tr th:only-of-type {\n",
       "        vertical-align: middle;\n",
       "    }\n",
       "\n",
       "    .dataframe tbody tr th {\n",
       "        vertical-align: top;\n",
       "    }\n",
       "\n",
       "    .dataframe thead th {\n",
       "        text-align: right;\n",
       "    }\n",
       "</style>\n",
       "<table border=\"1\" class=\"dataframe\">\n",
       "  <thead>\n",
       "    <tr style=\"text-align: right;\">\n",
       "      <th></th>\n",
       "      <th>Treino</th>\n",
       "      <th>Teste</th>\n",
       "    </tr>\n",
       "  </thead>\n",
       "  <tbody>\n",
       "    <tr>\n",
       "      <th>MAE</th>\n",
       "      <td>10.394652</td>\n",
       "      <td>18.365193</td>\n",
       "    </tr>\n",
       "    <tr>\n",
       "      <th>R-squared</th>\n",
       "      <td>0.997891</td>\n",
       "      <td>0.908248</td>\n",
       "    </tr>\n",
       "  </tbody>\n",
       "</table>\n",
       "</div>"
      ],
      "text/plain": [
       "              Treino      Teste\n",
       "MAE        10.394652  18.365193\n",
       "R-squared   0.997891   0.908248"
      ]
     },
     "metadata": {},
     "output_type": "display_data"
    },
    {
     "name": "stdout",
     "output_type": "stream",
     "text": [
      "____________________\n",
      "\n",
      "AdaBoostRegressor\n"
     ]
    },
    {
     "data": {
      "text/html": [
       "<div>\n",
       "<style scoped>\n",
       "    .dataframe tbody tr th:only-of-type {\n",
       "        vertical-align: middle;\n",
       "    }\n",
       "\n",
       "    .dataframe tbody tr th {\n",
       "        vertical-align: top;\n",
       "    }\n",
       "\n",
       "    .dataframe thead th {\n",
       "        text-align: right;\n",
       "    }\n",
       "</style>\n",
       "<table border=\"1\" class=\"dataframe\">\n",
       "  <thead>\n",
       "    <tr style=\"text-align: right;\">\n",
       "      <th></th>\n",
       "      <th>Treino</th>\n",
       "      <th>Teste</th>\n",
       "    </tr>\n",
       "  </thead>\n",
       "  <tbody>\n",
       "    <tr>\n",
       "      <th>MAE</th>\n",
       "      <td>35.228744</td>\n",
       "      <td>19.767191</td>\n",
       "    </tr>\n",
       "    <tr>\n",
       "      <th>R-squared</th>\n",
       "      <td>0.977029</td>\n",
       "      <td>0.959993</td>\n",
       "    </tr>\n",
       "  </tbody>\n",
       "</table>\n",
       "</div>"
      ],
      "text/plain": [
       "              Treino      Teste\n",
       "MAE        35.228744  19.767191\n",
       "R-squared   0.977029   0.959993"
      ]
     },
     "metadata": {},
     "output_type": "display_data"
    },
    {
     "name": "stdout",
     "output_type": "stream",
     "text": [
      "____________________\n",
      "\n",
      "[LinearRegression]\n"
     ]
    },
    {
     "data": {
      "text/html": [
       "<div>\n",
       "<style scoped>\n",
       "    .dataframe tbody tr th:only-of-type {\n",
       "        vertical-align: middle;\n",
       "    }\n",
       "\n",
       "    .dataframe tbody tr th {\n",
       "        vertical-align: top;\n",
       "    }\n",
       "\n",
       "    .dataframe thead th {\n",
       "        text-align: right;\n",
       "    }\n",
       "</style>\n",
       "<table border=\"1\" class=\"dataframe\">\n",
       "  <thead>\n",
       "    <tr style=\"text-align: right;\">\n",
       "      <th></th>\n",
       "      <th>Treino</th>\n",
       "      <th>Teste</th>\n",
       "    </tr>\n",
       "  </thead>\n",
       "  <tbody>\n",
       "    <tr>\n",
       "      <th>MAE</th>\n",
       "      <td>37.328635</td>\n",
       "      <td>22.649136</td>\n",
       "    </tr>\n",
       "    <tr>\n",
       "      <th>R-squared</th>\n",
       "      <td>0.946188</td>\n",
       "      <td>0.957080</td>\n",
       "    </tr>\n",
       "  </tbody>\n",
       "</table>\n",
       "</div>"
      ],
      "text/plain": [
       "              Treino      Teste\n",
       "MAE        37.328635  22.649136\n",
       "R-squared   0.946188   0.957080"
      ]
     },
     "metadata": {},
     "output_type": "display_data"
    },
    {
     "name": "stdout",
     "output_type": "stream",
     "text": [
      "____________________\n",
      "\n",
      "[LassoRegression]\n"
     ]
    },
    {
     "data": {
      "text/html": [
       "<div>\n",
       "<style scoped>\n",
       "    .dataframe tbody tr th:only-of-type {\n",
       "        vertical-align: middle;\n",
       "    }\n",
       "\n",
       "    .dataframe tbody tr th {\n",
       "        vertical-align: top;\n",
       "    }\n",
       "\n",
       "    .dataframe thead th {\n",
       "        text-align: right;\n",
       "    }\n",
       "</style>\n",
       "<table border=\"1\" class=\"dataframe\">\n",
       "  <thead>\n",
       "    <tr style=\"text-align: right;\">\n",
       "      <th></th>\n",
       "      <th>Treino</th>\n",
       "      <th>Teste</th>\n",
       "    </tr>\n",
       "  </thead>\n",
       "  <tbody>\n",
       "    <tr>\n",
       "      <th>MAE</th>\n",
       "      <td>38.363991</td>\n",
       "      <td>24.692499</td>\n",
       "    </tr>\n",
       "    <tr>\n",
       "      <th>R-squared</th>\n",
       "      <td>0.944363</td>\n",
       "      <td>0.948331</td>\n",
       "    </tr>\n",
       "  </tbody>\n",
       "</table>\n",
       "</div>"
      ],
      "text/plain": [
       "              Treino      Teste\n",
       "MAE        38.363991  24.692499\n",
       "R-squared   0.944363   0.948331"
      ]
     },
     "metadata": {},
     "output_type": "display_data"
    },
    {
     "name": "stdout",
     "output_type": "stream",
     "text": [
      "____________________\n",
      "\n",
      "[RidgeRegression]\n"
     ]
    },
    {
     "data": {
      "text/html": [
       "<div>\n",
       "<style scoped>\n",
       "    .dataframe tbody tr th:only-of-type {\n",
       "        vertical-align: middle;\n",
       "    }\n",
       "\n",
       "    .dataframe tbody tr th {\n",
       "        vertical-align: top;\n",
       "    }\n",
       "\n",
       "    .dataframe thead th {\n",
       "        text-align: right;\n",
       "    }\n",
       "</style>\n",
       "<table border=\"1\" class=\"dataframe\">\n",
       "  <thead>\n",
       "    <tr style=\"text-align: right;\">\n",
       "      <th></th>\n",
       "      <th>Treino</th>\n",
       "      <th>Teste</th>\n",
       "    </tr>\n",
       "  </thead>\n",
       "  <tbody>\n",
       "    <tr>\n",
       "      <th>MAE</th>\n",
       "      <td>37.313529</td>\n",
       "      <td>22.609988</td>\n",
       "    </tr>\n",
       "    <tr>\n",
       "      <th>R-squared</th>\n",
       "      <td>0.946188</td>\n",
       "      <td>0.957193</td>\n",
       "    </tr>\n",
       "  </tbody>\n",
       "</table>\n",
       "</div>"
      ],
      "text/plain": [
       "              Treino      Teste\n",
       "MAE        37.313529  22.609988\n",
       "R-squared   0.946188   0.957193"
      ]
     },
     "metadata": {},
     "output_type": "display_data"
    },
    {
     "name": "stdout",
     "output_type": "stream",
     "text": [
      "____________________\n",
      "\n",
      "[RandomForestRegressor]\n"
     ]
    },
    {
     "data": {
      "text/html": [
       "<div>\n",
       "<style scoped>\n",
       "    .dataframe tbody tr th:only-of-type {\n",
       "        vertical-align: middle;\n",
       "    }\n",
       "\n",
       "    .dataframe tbody tr th {\n",
       "        vertical-align: top;\n",
       "    }\n",
       "\n",
       "    .dataframe thead th {\n",
       "        text-align: right;\n",
       "    }\n",
       "</style>\n",
       "<table border=\"1\" class=\"dataframe\">\n",
       "  <thead>\n",
       "    <tr style=\"text-align: right;\">\n",
       "      <th></th>\n",
       "      <th>Treino</th>\n",
       "      <th>Teste</th>\n",
       "    </tr>\n",
       "  </thead>\n",
       "  <tbody>\n",
       "    <tr>\n",
       "      <th>MAE</th>\n",
       "      <td>16.688361</td>\n",
       "      <td>13.644810</td>\n",
       "    </tr>\n",
       "    <tr>\n",
       "      <th>R-squared</th>\n",
       "      <td>0.990339</td>\n",
       "      <td>0.947383</td>\n",
       "    </tr>\n",
       "  </tbody>\n",
       "</table>\n",
       "</div>"
      ],
      "text/plain": [
       "              Treino      Teste\n",
       "MAE        16.688361  13.644810\n",
       "R-squared   0.990339   0.947383"
      ]
     },
     "metadata": {},
     "output_type": "display_data"
    },
    {
     "name": "stdout",
     "output_type": "stream",
     "text": [
      "____________________\n",
      "\n",
      "ElasticNet\n"
     ]
    },
    {
     "data": {
      "text/html": [
       "<div>\n",
       "<style scoped>\n",
       "    .dataframe tbody tr th:only-of-type {\n",
       "        vertical-align: middle;\n",
       "    }\n",
       "\n",
       "    .dataframe tbody tr th {\n",
       "        vertical-align: top;\n",
       "    }\n",
       "\n",
       "    .dataframe thead th {\n",
       "        text-align: right;\n",
       "    }\n",
       "</style>\n",
       "<table border=\"1\" class=\"dataframe\">\n",
       "  <thead>\n",
       "    <tr style=\"text-align: right;\">\n",
       "      <th></th>\n",
       "      <th>Treino</th>\n",
       "      <th>Teste</th>\n",
       "    </tr>\n",
       "  </thead>\n",
       "  <tbody>\n",
       "    <tr>\n",
       "      <th>MAE</th>\n",
       "      <td>38.225226</td>\n",
       "      <td>24.683919</td>\n",
       "    </tr>\n",
       "    <tr>\n",
       "      <th>R-squared</th>\n",
       "      <td>0.944266</td>\n",
       "      <td>0.948104</td>\n",
       "    </tr>\n",
       "  </tbody>\n",
       "</table>\n",
       "</div>"
      ],
      "text/plain": [
       "              Treino      Teste\n",
       "MAE        38.225226  24.683919\n",
       "R-squared   0.944266   0.948104"
      ]
     },
     "metadata": {},
     "output_type": "display_data"
    },
    {
     "name": "stdout",
     "output_type": "stream",
     "text": [
      "____________________\n",
      "\n",
      "[RANSACRegressor]\n"
     ]
    },
    {
     "data": {
      "text/html": [
       "<div>\n",
       "<style scoped>\n",
       "    .dataframe tbody tr th:only-of-type {\n",
       "        vertical-align: middle;\n",
       "    }\n",
       "\n",
       "    .dataframe tbody tr th {\n",
       "        vertical-align: top;\n",
       "    }\n",
       "\n",
       "    .dataframe thead th {\n",
       "        text-align: right;\n",
       "    }\n",
       "</style>\n",
       "<table border=\"1\" class=\"dataframe\">\n",
       "  <thead>\n",
       "    <tr style=\"text-align: right;\">\n",
       "      <th></th>\n",
       "      <th>Treino</th>\n",
       "      <th>Teste</th>\n",
       "    </tr>\n",
       "  </thead>\n",
       "  <tbody>\n",
       "    <tr>\n",
       "      <th>MAE</th>\n",
       "      <td>41.333257</td>\n",
       "      <td>22.867680</td>\n",
       "    </tr>\n",
       "    <tr>\n",
       "      <th>R-squared</th>\n",
       "      <td>0.905879</td>\n",
       "      <td>0.937615</td>\n",
       "    </tr>\n",
       "  </tbody>\n",
       "</table>\n",
       "</div>"
      ],
      "text/plain": [
       "              Treino      Teste\n",
       "MAE        41.333257  22.867680\n",
       "R-squared   0.905879   0.937615"
      ]
     },
     "metadata": {},
     "output_type": "display_data"
    },
    {
     "name": "stdout",
     "output_type": "stream",
     "text": [
      "____________________\n",
      "\n",
      "[PLSRegression]\n"
     ]
    },
    {
     "data": {
      "text/html": [
       "<div>\n",
       "<style scoped>\n",
       "    .dataframe tbody tr th:only-of-type {\n",
       "        vertical-align: middle;\n",
       "    }\n",
       "\n",
       "    .dataframe tbody tr th {\n",
       "        vertical-align: top;\n",
       "    }\n",
       "\n",
       "    .dataframe thead th {\n",
       "        text-align: right;\n",
       "    }\n",
       "</style>\n",
       "<table border=\"1\" class=\"dataframe\">\n",
       "  <thead>\n",
       "    <tr style=\"text-align: right;\">\n",
       "      <th></th>\n",
       "      <th>Treino</th>\n",
       "      <th>Teste</th>\n",
       "    </tr>\n",
       "  </thead>\n",
       "  <tbody>\n",
       "    <tr>\n",
       "      <th>MAE</th>\n",
       "      <td>47.215687</td>\n",
       "      <td>18.939618</td>\n",
       "    </tr>\n",
       "    <tr>\n",
       "      <th>R-squared</th>\n",
       "      <td>0.924475</td>\n",
       "      <td>0.964322</td>\n",
       "    </tr>\n",
       "  </tbody>\n",
       "</table>\n",
       "</div>"
      ],
      "text/plain": [
       "              Treino      Teste\n",
       "MAE        47.215687  18.939618\n",
       "R-squared   0.924475   0.964322"
      ]
     },
     "metadata": {},
     "output_type": "display_data"
    },
    {
     "name": "stdout",
     "output_type": "stream",
     "text": [
      "____________________\n",
      "\n",
      "[PCARegression]\n"
     ]
    },
    {
     "data": {
      "text/html": [
       "<div>\n",
       "<style scoped>\n",
       "    .dataframe tbody tr th:only-of-type {\n",
       "        vertical-align: middle;\n",
       "    }\n",
       "\n",
       "    .dataframe tbody tr th {\n",
       "        vertical-align: top;\n",
       "    }\n",
       "\n",
       "    .dataframe thead th {\n",
       "        text-align: right;\n",
       "    }\n",
       "</style>\n",
       "<table border=\"1\" class=\"dataframe\">\n",
       "  <thead>\n",
       "    <tr style=\"text-align: right;\">\n",
       "      <th></th>\n",
       "      <th>Treino</th>\n",
       "      <th>Teste</th>\n",
       "    </tr>\n",
       "  </thead>\n",
       "  <tbody>\n",
       "    <tr>\n",
       "      <th>MAE</th>\n",
       "      <td>73.527984</td>\n",
       "      <td>39.232675</td>\n",
       "    </tr>\n",
       "    <tr>\n",
       "      <th>R-squared</th>\n",
       "      <td>0.856660</td>\n",
       "      <td>0.860343</td>\n",
       "    </tr>\n",
       "  </tbody>\n",
       "</table>\n",
       "</div>"
      ],
      "text/plain": [
       "              Treino      Teste\n",
       "MAE        73.527984  39.232675\n",
       "R-squared   0.856660   0.860343"
      ]
     },
     "metadata": {},
     "output_type": "display_data"
    },
    {
     "name": "stdout",
     "output_type": "stream",
     "text": [
      "____________________\n",
      "\n",
      "[PolyRegression]\n"
     ]
    },
    {
     "data": {
      "text/html": [
       "<div>\n",
       "<style scoped>\n",
       "    .dataframe tbody tr th:only-of-type {\n",
       "        vertical-align: middle;\n",
       "    }\n",
       "\n",
       "    .dataframe tbody tr th {\n",
       "        vertical-align: top;\n",
       "    }\n",
       "\n",
       "    .dataframe thead th {\n",
       "        text-align: right;\n",
       "    }\n",
       "</style>\n",
       "<table border=\"1\" class=\"dataframe\">\n",
       "  <thead>\n",
       "    <tr style=\"text-align: right;\">\n",
       "      <th></th>\n",
       "      <th>Treino</th>\n",
       "      <th>Teste</th>\n",
       "    </tr>\n",
       "  </thead>\n",
       "  <tbody>\n",
       "    <tr>\n",
       "      <th>MAE</th>\n",
       "      <td>34.832356</td>\n",
       "      <td>85.905993</td>\n",
       "    </tr>\n",
       "    <tr>\n",
       "      <th>R-squared</th>\n",
       "      <td>0.972875</td>\n",
       "      <td>-5.534840</td>\n",
       "    </tr>\n",
       "  </tbody>\n",
       "</table>\n",
       "</div>"
      ],
      "text/plain": [
       "              Treino      Teste\n",
       "MAE        34.832356  85.905993\n",
       "R-squared   0.972875  -5.534840"
      ]
     },
     "metadata": {},
     "output_type": "display_data"
    },
    {
     "name": "stdout",
     "output_type": "stream",
     "text": [
      "____________________\n",
      "\n",
      "XGBRegressor\n"
     ]
    },
    {
     "data": {
      "text/html": [
       "<div>\n",
       "<style scoped>\n",
       "    .dataframe tbody tr th:only-of-type {\n",
       "        vertical-align: middle;\n",
       "    }\n",
       "\n",
       "    .dataframe tbody tr th {\n",
       "        vertical-align: top;\n",
       "    }\n",
       "\n",
       "    .dataframe thead th {\n",
       "        text-align: right;\n",
       "    }\n",
       "</style>\n",
       "<table border=\"1\" class=\"dataframe\">\n",
       "  <thead>\n",
       "    <tr style=\"text-align: right;\">\n",
       "      <th></th>\n",
       "      <th>Treino</th>\n",
       "      <th>Teste</th>\n",
       "    </tr>\n",
       "  </thead>\n",
       "  <tbody>\n",
       "    <tr>\n",
       "      <th>MAE</th>\n",
       "      <td>0.068693</td>\n",
       "      <td>22.100110</td>\n",
       "    </tr>\n",
       "    <tr>\n",
       "      <th>R-squared</th>\n",
       "      <td>1.000000</td>\n",
       "      <td>0.835677</td>\n",
       "    </tr>\n",
       "  </tbody>\n",
       "</table>\n",
       "</div>"
      ],
      "text/plain": [
       "             Treino      Teste\n",
       "MAE        0.068693  22.100110\n",
       "R-squared  1.000000   0.835677"
      ]
     },
     "metadata": {},
     "output_type": "display_data"
    },
    {
     "name": "stdout",
     "output_type": "stream",
     "text": [
      "____________________\n"
     ]
    }
   ],
   "source": [
    "run_all_algs(X_train, y_train, X_test, y_test)"
   ]
  },
  {
   "cell_type": "markdown",
   "id": "afe990d9-2279-4e03-baa1-a6ce9afc914e",
   "metadata": {},
   "source": [
    "### Features Normalizadas"
   ]
  },
  {
   "cell_type": "code",
   "execution_count": 17,
   "id": "f11f62e9-6f81-4b7f-b3a8-4ae4e85770de",
   "metadata": {},
   "outputs": [
    {
     "name": "stdout",
     "output_type": "stream",
     "text": [
      "\n",
      "GradientBoostingRegressor\n"
     ]
    },
    {
     "data": {
      "text/html": [
       "<div>\n",
       "<style scoped>\n",
       "    .dataframe tbody tr th:only-of-type {\n",
       "        vertical-align: middle;\n",
       "    }\n",
       "\n",
       "    .dataframe tbody tr th {\n",
       "        vertical-align: top;\n",
       "    }\n",
       "\n",
       "    .dataframe thead th {\n",
       "        text-align: right;\n",
       "    }\n",
       "</style>\n",
       "<table border=\"1\" class=\"dataframe\">\n",
       "  <thead>\n",
       "    <tr style=\"text-align: right;\">\n",
       "      <th></th>\n",
       "      <th>Treino</th>\n",
       "      <th>Teste</th>\n",
       "    </tr>\n",
       "  </thead>\n",
       "  <tbody>\n",
       "    <tr>\n",
       "      <th>MAE</th>\n",
       "      <td>10.394652</td>\n",
       "      <td>18.228542</td>\n",
       "    </tr>\n",
       "    <tr>\n",
       "      <th>R-squared</th>\n",
       "      <td>0.997891</td>\n",
       "      <td>0.907532</td>\n",
       "    </tr>\n",
       "  </tbody>\n",
       "</table>\n",
       "</div>"
      ],
      "text/plain": [
       "              Treino      Teste\n",
       "MAE        10.394652  18.228542\n",
       "R-squared   0.997891   0.907532"
      ]
     },
     "metadata": {},
     "output_type": "display_data"
    },
    {
     "name": "stdout",
     "output_type": "stream",
     "text": [
      "____________________\n",
      "\n",
      "AdaBoostRegressor\n"
     ]
    },
    {
     "data": {
      "text/html": [
       "<div>\n",
       "<style scoped>\n",
       "    .dataframe tbody tr th:only-of-type {\n",
       "        vertical-align: middle;\n",
       "    }\n",
       "\n",
       "    .dataframe tbody tr th {\n",
       "        vertical-align: top;\n",
       "    }\n",
       "\n",
       "    .dataframe thead th {\n",
       "        text-align: right;\n",
       "    }\n",
       "</style>\n",
       "<table border=\"1\" class=\"dataframe\">\n",
       "  <thead>\n",
       "    <tr style=\"text-align: right;\">\n",
       "      <th></th>\n",
       "      <th>Treino</th>\n",
       "      <th>Teste</th>\n",
       "    </tr>\n",
       "  </thead>\n",
       "  <tbody>\n",
       "    <tr>\n",
       "      <th>MAE</th>\n",
       "      <td>33.453935</td>\n",
       "      <td>19.057338</td>\n",
       "    </tr>\n",
       "    <tr>\n",
       "      <th>R-squared</th>\n",
       "      <td>0.978876</td>\n",
       "      <td>0.943313</td>\n",
       "    </tr>\n",
       "  </tbody>\n",
       "</table>\n",
       "</div>"
      ],
      "text/plain": [
       "              Treino      Teste\n",
       "MAE        33.453935  19.057338\n",
       "R-squared   0.978876   0.943313"
      ]
     },
     "metadata": {},
     "output_type": "display_data"
    },
    {
     "name": "stdout",
     "output_type": "stream",
     "text": [
      "____________________\n",
      "\n",
      "[LinearRegression]\n"
     ]
    },
    {
     "data": {
      "text/html": [
       "<div>\n",
       "<style scoped>\n",
       "    .dataframe tbody tr th:only-of-type {\n",
       "        vertical-align: middle;\n",
       "    }\n",
       "\n",
       "    .dataframe tbody tr th {\n",
       "        vertical-align: top;\n",
       "    }\n",
       "\n",
       "    .dataframe thead th {\n",
       "        text-align: right;\n",
       "    }\n",
       "</style>\n",
       "<table border=\"1\" class=\"dataframe\">\n",
       "  <thead>\n",
       "    <tr style=\"text-align: right;\">\n",
       "      <th></th>\n",
       "      <th>Treino</th>\n",
       "      <th>Teste</th>\n",
       "    </tr>\n",
       "  </thead>\n",
       "  <tbody>\n",
       "    <tr>\n",
       "      <th>MAE</th>\n",
       "      <td>37.328636</td>\n",
       "      <td>22.649137</td>\n",
       "    </tr>\n",
       "    <tr>\n",
       "      <th>R-squared</th>\n",
       "      <td>0.946188</td>\n",
       "      <td>0.957080</td>\n",
       "    </tr>\n",
       "  </tbody>\n",
       "</table>\n",
       "</div>"
      ],
      "text/plain": [
       "              Treino      Teste\n",
       "MAE        37.328636  22.649137\n",
       "R-squared   0.946188   0.957080"
      ]
     },
     "metadata": {},
     "output_type": "display_data"
    },
    {
     "name": "stdout",
     "output_type": "stream",
     "text": [
      "____________________\n",
      "\n",
      "[LassoRegression]\n"
     ]
    },
    {
     "data": {
      "text/html": [
       "<div>\n",
       "<style scoped>\n",
       "    .dataframe tbody tr th:only-of-type {\n",
       "        vertical-align: middle;\n",
       "    }\n",
       "\n",
       "    .dataframe tbody tr th {\n",
       "        vertical-align: top;\n",
       "    }\n",
       "\n",
       "    .dataframe thead th {\n",
       "        text-align: right;\n",
       "    }\n",
       "</style>\n",
       "<table border=\"1\" class=\"dataframe\">\n",
       "  <thead>\n",
       "    <tr style=\"text-align: right;\">\n",
       "      <th></th>\n",
       "      <th>Treino</th>\n",
       "      <th>Teste</th>\n",
       "    </tr>\n",
       "  </thead>\n",
       "  <tbody>\n",
       "    <tr>\n",
       "      <th>MAE</th>\n",
       "      <td>44.190137</td>\n",
       "      <td>21.719078</td>\n",
       "    </tr>\n",
       "    <tr>\n",
       "      <th>R-squared</th>\n",
       "      <td>0.930636</td>\n",
       "      <td>0.955893</td>\n",
       "    </tr>\n",
       "  </tbody>\n",
       "</table>\n",
       "</div>"
      ],
      "text/plain": [
       "              Treino      Teste\n",
       "MAE        44.190137  21.719078\n",
       "R-squared   0.930636   0.955893"
      ]
     },
     "metadata": {},
     "output_type": "display_data"
    },
    {
     "name": "stdout",
     "output_type": "stream",
     "text": [
      "____________________\n",
      "\n",
      "[RidgeRegression]\n"
     ]
    },
    {
     "data": {
      "text/html": [
       "<div>\n",
       "<style scoped>\n",
       "    .dataframe tbody tr th:only-of-type {\n",
       "        vertical-align: middle;\n",
       "    }\n",
       "\n",
       "    .dataframe tbody tr th {\n",
       "        vertical-align: top;\n",
       "    }\n",
       "\n",
       "    .dataframe thead th {\n",
       "        text-align: right;\n",
       "    }\n",
       "</style>\n",
       "<table border=\"1\" class=\"dataframe\">\n",
       "  <thead>\n",
       "    <tr style=\"text-align: right;\">\n",
       "      <th></th>\n",
       "      <th>Treino</th>\n",
       "      <th>Teste</th>\n",
       "    </tr>\n",
       "  </thead>\n",
       "  <tbody>\n",
       "    <tr>\n",
       "      <th>MAE</th>\n",
       "      <td>40.719091</td>\n",
       "      <td>20.406157</td>\n",
       "    </tr>\n",
       "    <tr>\n",
       "      <th>R-squared</th>\n",
       "      <td>0.937090</td>\n",
       "      <td>0.963191</td>\n",
       "    </tr>\n",
       "  </tbody>\n",
       "</table>\n",
       "</div>"
      ],
      "text/plain": [
       "              Treino      Teste\n",
       "MAE        40.719091  20.406157\n",
       "R-squared   0.937090   0.963191"
      ]
     },
     "metadata": {},
     "output_type": "display_data"
    },
    {
     "name": "stdout",
     "output_type": "stream",
     "text": [
      "____________________\n",
      "\n",
      "[RandomForestRegressor]\n"
     ]
    },
    {
     "data": {
      "text/html": [
       "<div>\n",
       "<style scoped>\n",
       "    .dataframe tbody tr th:only-of-type {\n",
       "        vertical-align: middle;\n",
       "    }\n",
       "\n",
       "    .dataframe tbody tr th {\n",
       "        vertical-align: top;\n",
       "    }\n",
       "\n",
       "    .dataframe thead th {\n",
       "        text-align: right;\n",
       "    }\n",
       "</style>\n",
       "<table border=\"1\" class=\"dataframe\">\n",
       "  <thead>\n",
       "    <tr style=\"text-align: right;\">\n",
       "      <th></th>\n",
       "      <th>Treino</th>\n",
       "      <th>Teste</th>\n",
       "    </tr>\n",
       "  </thead>\n",
       "  <tbody>\n",
       "    <tr>\n",
       "      <th>MAE</th>\n",
       "      <td>16.006072</td>\n",
       "      <td>12.561772</td>\n",
       "    </tr>\n",
       "    <tr>\n",
       "      <th>R-squared</th>\n",
       "      <td>0.987933</td>\n",
       "      <td>0.970092</td>\n",
       "    </tr>\n",
       "  </tbody>\n",
       "</table>\n",
       "</div>"
      ],
      "text/plain": [
       "              Treino      Teste\n",
       "MAE        16.006072  12.561772\n",
       "R-squared   0.987933   0.970092"
      ]
     },
     "metadata": {},
     "output_type": "display_data"
    },
    {
     "name": "stdout",
     "output_type": "stream",
     "text": [
      "____________________\n",
      "\n",
      "ElasticNet\n"
     ]
    },
    {
     "data": {
      "text/html": [
       "<div>\n",
       "<style scoped>\n",
       "    .dataframe tbody tr th:only-of-type {\n",
       "        vertical-align: middle;\n",
       "    }\n",
       "\n",
       "    .dataframe tbody tr th {\n",
       "        vertical-align: top;\n",
       "    }\n",
       "\n",
       "    .dataframe thead th {\n",
       "        text-align: right;\n",
       "    }\n",
       "</style>\n",
       "<table border=\"1\" class=\"dataframe\">\n",
       "  <thead>\n",
       "    <tr style=\"text-align: right;\">\n",
       "      <th></th>\n",
       "      <th>Treino</th>\n",
       "      <th>Teste</th>\n",
       "    </tr>\n",
       "  </thead>\n",
       "  <tbody>\n",
       "    <tr>\n",
       "      <th>MAE</th>\n",
       "      <td>50.222509</td>\n",
       "      <td>22.330325</td>\n",
       "    </tr>\n",
       "    <tr>\n",
       "      <th>R-squared</th>\n",
       "      <td>0.921337</td>\n",
       "      <td>0.952111</td>\n",
       "    </tr>\n",
       "  </tbody>\n",
       "</table>\n",
       "</div>"
      ],
      "text/plain": [
       "              Treino      Teste\n",
       "MAE        50.222509  22.330325\n",
       "R-squared   0.921337   0.952111"
      ]
     },
     "metadata": {},
     "output_type": "display_data"
    },
    {
     "name": "stdout",
     "output_type": "stream",
     "text": [
      "____________________\n",
      "\n",
      "[RANSACRegressor]\n"
     ]
    },
    {
     "data": {
      "text/html": [
       "<div>\n",
       "<style scoped>\n",
       "    .dataframe tbody tr th:only-of-type {\n",
       "        vertical-align: middle;\n",
       "    }\n",
       "\n",
       "    .dataframe tbody tr th {\n",
       "        vertical-align: top;\n",
       "    }\n",
       "\n",
       "    .dataframe thead th {\n",
       "        text-align: right;\n",
       "    }\n",
       "</style>\n",
       "<table border=\"1\" class=\"dataframe\">\n",
       "  <thead>\n",
       "    <tr style=\"text-align: right;\">\n",
       "      <th></th>\n",
       "      <th>Treino</th>\n",
       "      <th>Teste</th>\n",
       "    </tr>\n",
       "  </thead>\n",
       "  <tbody>\n",
       "    <tr>\n",
       "      <th>MAE</th>\n",
       "      <td>37.009482</td>\n",
       "      <td>25.023275</td>\n",
       "    </tr>\n",
       "    <tr>\n",
       "      <th>R-squared</th>\n",
       "      <td>0.937674</td>\n",
       "      <td>0.928386</td>\n",
       "    </tr>\n",
       "  </tbody>\n",
       "</table>\n",
       "</div>"
      ],
      "text/plain": [
       "              Treino      Teste\n",
       "MAE        37.009482  25.023275\n",
       "R-squared   0.937674   0.928386"
      ]
     },
     "metadata": {},
     "output_type": "display_data"
    },
    {
     "name": "stdout",
     "output_type": "stream",
     "text": [
      "____________________\n",
      "\n",
      "[PLSRegression]\n"
     ]
    },
    {
     "data": {
      "text/html": [
       "<div>\n",
       "<style scoped>\n",
       "    .dataframe tbody tr th:only-of-type {\n",
       "        vertical-align: middle;\n",
       "    }\n",
       "\n",
       "    .dataframe tbody tr th {\n",
       "        vertical-align: top;\n",
       "    }\n",
       "\n",
       "    .dataframe thead th {\n",
       "        text-align: right;\n",
       "    }\n",
       "</style>\n",
       "<table border=\"1\" class=\"dataframe\">\n",
       "  <thead>\n",
       "    <tr style=\"text-align: right;\">\n",
       "      <th></th>\n",
       "      <th>Treino</th>\n",
       "      <th>Teste</th>\n",
       "    </tr>\n",
       "  </thead>\n",
       "  <tbody>\n",
       "    <tr>\n",
       "      <th>MAE</th>\n",
       "      <td>47.215687</td>\n",
       "      <td>18.939618</td>\n",
       "    </tr>\n",
       "    <tr>\n",
       "      <th>R-squared</th>\n",
       "      <td>0.924475</td>\n",
       "      <td>0.964322</td>\n",
       "    </tr>\n",
       "  </tbody>\n",
       "</table>\n",
       "</div>"
      ],
      "text/plain": [
       "              Treino      Teste\n",
       "MAE        47.215687  18.939618\n",
       "R-squared   0.924475   0.964322"
      ]
     },
     "metadata": {},
     "output_type": "display_data"
    },
    {
     "name": "stdout",
     "output_type": "stream",
     "text": [
      "____________________\n",
      "\n",
      "[PCARegression]\n"
     ]
    },
    {
     "data": {
      "text/html": [
       "<div>\n",
       "<style scoped>\n",
       "    .dataframe tbody tr th:only-of-type {\n",
       "        vertical-align: middle;\n",
       "    }\n",
       "\n",
       "    .dataframe tbody tr th {\n",
       "        vertical-align: top;\n",
       "    }\n",
       "\n",
       "    .dataframe thead th {\n",
       "        text-align: right;\n",
       "    }\n",
       "</style>\n",
       "<table border=\"1\" class=\"dataframe\">\n",
       "  <thead>\n",
       "    <tr style=\"text-align: right;\">\n",
       "      <th></th>\n",
       "      <th>Treino</th>\n",
       "      <th>Teste</th>\n",
       "    </tr>\n",
       "  </thead>\n",
       "  <tbody>\n",
       "    <tr>\n",
       "      <th>MAE</th>\n",
       "      <td>50.536958</td>\n",
       "      <td>19.571486</td>\n",
       "    </tr>\n",
       "    <tr>\n",
       "      <th>R-squared</th>\n",
       "      <td>0.921360</td>\n",
       "      <td>0.959815</td>\n",
       "    </tr>\n",
       "  </tbody>\n",
       "</table>\n",
       "</div>"
      ],
      "text/plain": [
       "              Treino      Teste\n",
       "MAE        50.536958  19.571486\n",
       "R-squared   0.921360   0.959815"
      ]
     },
     "metadata": {},
     "output_type": "display_data"
    },
    {
     "name": "stdout",
     "output_type": "stream",
     "text": [
      "____________________\n",
      "\n",
      "[PolyRegression]\n"
     ]
    },
    {
     "data": {
      "text/html": [
       "<div>\n",
       "<style scoped>\n",
       "    .dataframe tbody tr th:only-of-type {\n",
       "        vertical-align: middle;\n",
       "    }\n",
       "\n",
       "    .dataframe tbody tr th {\n",
       "        vertical-align: top;\n",
       "    }\n",
       "\n",
       "    .dataframe thead th {\n",
       "        text-align: right;\n",
       "    }\n",
       "</style>\n",
       "<table border=\"1\" class=\"dataframe\">\n",
       "  <thead>\n",
       "    <tr style=\"text-align: right;\">\n",
       "      <th></th>\n",
       "      <th>Treino</th>\n",
       "      <th>Teste</th>\n",
       "    </tr>\n",
       "  </thead>\n",
       "  <tbody>\n",
       "    <tr>\n",
       "      <th>MAE</th>\n",
       "      <td>9.700269</td>\n",
       "      <td>86.195306</td>\n",
       "    </tr>\n",
       "    <tr>\n",
       "      <th>R-squared</th>\n",
       "      <td>0.997290</td>\n",
       "      <td>-6.569257</td>\n",
       "    </tr>\n",
       "  </tbody>\n",
       "</table>\n",
       "</div>"
      ],
      "text/plain": [
       "             Treino      Teste\n",
       "MAE        9.700269  86.195306\n",
       "R-squared  0.997290  -6.569257"
      ]
     },
     "metadata": {},
     "output_type": "display_data"
    },
    {
     "name": "stdout",
     "output_type": "stream",
     "text": [
      "____________________\n",
      "\n",
      "XGBRegressor\n"
     ]
    },
    {
     "data": {
      "text/html": [
       "<div>\n",
       "<style scoped>\n",
       "    .dataframe tbody tr th:only-of-type {\n",
       "        vertical-align: middle;\n",
       "    }\n",
       "\n",
       "    .dataframe tbody tr th {\n",
       "        vertical-align: top;\n",
       "    }\n",
       "\n",
       "    .dataframe thead th {\n",
       "        text-align: right;\n",
       "    }\n",
       "</style>\n",
       "<table border=\"1\" class=\"dataframe\">\n",
       "  <thead>\n",
       "    <tr style=\"text-align: right;\">\n",
       "      <th></th>\n",
       "      <th>Treino</th>\n",
       "      <th>Teste</th>\n",
       "    </tr>\n",
       "  </thead>\n",
       "  <tbody>\n",
       "    <tr>\n",
       "      <th>MAE</th>\n",
       "      <td>0.068693</td>\n",
       "      <td>22.100110</td>\n",
       "    </tr>\n",
       "    <tr>\n",
       "      <th>R-squared</th>\n",
       "      <td>1.000000</td>\n",
       "      <td>0.835677</td>\n",
       "    </tr>\n",
       "  </tbody>\n",
       "</table>\n",
       "</div>"
      ],
      "text/plain": [
       "             Treino      Teste\n",
       "MAE        0.068693  22.100110\n",
       "R-squared  1.000000   0.835677"
      ]
     },
     "metadata": {},
     "output_type": "display_data"
    },
    {
     "name": "stdout",
     "output_type": "stream",
     "text": [
      "____________________\n"
     ]
    }
   ],
   "source": [
    "run_all_algs(X_train_scaled, y_train, X_test_scaled, y_test)"
   ]
  },
  {
   "cell_type": "code",
   "execution_count": 18,
   "id": "64a3be13-8264-44dd-8aa9-bf1fbcec95de",
   "metadata": {},
   "outputs": [],
   "source": [
    "model = RandomForestRegressor(n_estimators=1000, max_depth=9,random_state=0, n_jobs=-1).fit(X_train_scaled, y_train)"
   ]
  },
  {
   "cell_type": "code",
   "execution_count": 19,
   "id": "7daa49a2-cc3e-4287-a681-32c32adf3806",
   "metadata": {},
   "outputs": [
    {
     "data": {
      "text/html": [
       "<div>\n",
       "<style scoped>\n",
       "    .dataframe tbody tr th:only-of-type {\n",
       "        vertical-align: middle;\n",
       "    }\n",
       "\n",
       "    .dataframe tbody tr th {\n",
       "        vertical-align: top;\n",
       "    }\n",
       "\n",
       "    .dataframe thead th {\n",
       "        text-align: right;\n",
       "    }\n",
       "</style>\n",
       "<table border=\"1\" class=\"dataframe\">\n",
       "  <thead>\n",
       "    <tr style=\"text-align: right;\">\n",
       "      <th></th>\n",
       "      <th>Treino</th>\n",
       "      <th>Teste</th>\n",
       "    </tr>\n",
       "  </thead>\n",
       "  <tbody>\n",
       "    <tr>\n",
       "      <th>MAE</th>\n",
       "      <td>16.571450</td>\n",
       "      <td>13.034678</td>\n",
       "    </tr>\n",
       "    <tr>\n",
       "      <th>R-squared</th>\n",
       "      <td>0.989114</td>\n",
       "      <td>0.961640</td>\n",
       "    </tr>\n",
       "  </tbody>\n",
       "</table>\n",
       "</div>"
      ],
      "text/plain": [
       "              Treino      Teste\n",
       "MAE        16.571450  13.034678\n",
       "R-squared   0.989114   0.961640"
      ]
     },
     "metadata": {},
     "output_type": "display_data"
    }
   ],
   "source": [
    "show_model_performance(model, X_train_scaled, y_train, X_test_scaled, y_test)"
   ]
  },
  {
   "cell_type": "code",
   "execution_count": 20,
   "id": "e6183911-063a-474a-8ad5-ae3b2493a842",
   "metadata": {},
   "outputs": [],
   "source": [
    "import math\n",
    "syntetic = pd.DataFrame({\n",
    "    \"ACTUAL\": y_test,\n",
    "    \"PREDICTED_VALUES\": np.rint(model.predict(X_test_scaled)).astype(int),\n",
    "})\n",
    "\n",
    "syntetic[\"ERROR_ABS\"] = abs(syntetic[\"ACTUAL\"] - syntetic[\"PREDICTED_VALUES\"])\n",
    "syntetic[\"MEAN_VALUES\"] = np.rint((syntetic[\"ACTUAL\"] + syntetic[\"PREDICTED_VALUES\"]) / 2).astype(int)"
   ]
  },
  {
   "cell_type": "code",
   "execution_count": 21,
   "id": "d58186b6-3049-4732-ad33-521d7800c259",
   "metadata": {},
   "outputs": [
    {
     "data": {
      "text/html": [
       "<div>\n",
       "<style scoped>\n",
       "    .dataframe tbody tr th:only-of-type {\n",
       "        vertical-align: middle;\n",
       "    }\n",
       "\n",
       "    .dataframe tbody tr th {\n",
       "        vertical-align: top;\n",
       "    }\n",
       "\n",
       "    .dataframe thead th {\n",
       "        text-align: right;\n",
       "    }\n",
       "</style>\n",
       "<table border=\"1\" class=\"dataframe\">\n",
       "  <thead>\n",
       "    <tr style=\"text-align: right;\">\n",
       "      <th></th>\n",
       "      <th>ACTUAL</th>\n",
       "      <th>PREDICTED_VALUES</th>\n",
       "      <th>ERROR_ABS</th>\n",
       "      <th>MEAN_VALUES</th>\n",
       "    </tr>\n",
       "  </thead>\n",
       "  <tbody>\n",
       "    <tr>\n",
       "      <th>0</th>\n",
       "      <td>265</td>\n",
       "      <td>275</td>\n",
       "      <td>10</td>\n",
       "      <td>270</td>\n",
       "    </tr>\n",
       "    <tr>\n",
       "      <th>1</th>\n",
       "      <td>337</td>\n",
       "      <td>339</td>\n",
       "      <td>2</td>\n",
       "      <td>338</td>\n",
       "    </tr>\n",
       "    <tr>\n",
       "      <th>2</th>\n",
       "      <td>258</td>\n",
       "      <td>261</td>\n",
       "      <td>3</td>\n",
       "      <td>260</td>\n",
       "    </tr>\n",
       "    <tr>\n",
       "      <th>3</th>\n",
       "      <td>228</td>\n",
       "      <td>231</td>\n",
       "      <td>3</td>\n",
       "      <td>230</td>\n",
       "    </tr>\n",
       "    <tr>\n",
       "      <th>4</th>\n",
       "      <td>448</td>\n",
       "      <td>457</td>\n",
       "      <td>9</td>\n",
       "      <td>452</td>\n",
       "    </tr>\n",
       "    <tr>\n",
       "      <th>...</th>\n",
       "      <td>...</td>\n",
       "      <td>...</td>\n",
       "      <td>...</td>\n",
       "      <td>...</td>\n",
       "    </tr>\n",
       "    <tr>\n",
       "      <th>74</th>\n",
       "      <td>532</td>\n",
       "      <td>545</td>\n",
       "      <td>13</td>\n",
       "      <td>538</td>\n",
       "    </tr>\n",
       "    <tr>\n",
       "      <th>75</th>\n",
       "      <td>334</td>\n",
       "      <td>358</td>\n",
       "      <td>24</td>\n",
       "      <td>346</td>\n",
       "    </tr>\n",
       "    <tr>\n",
       "      <th>76</th>\n",
       "      <td>336</td>\n",
       "      <td>363</td>\n",
       "      <td>27</td>\n",
       "      <td>350</td>\n",
       "    </tr>\n",
       "    <tr>\n",
       "      <th>77</th>\n",
       "      <td>244</td>\n",
       "      <td>244</td>\n",
       "      <td>0</td>\n",
       "      <td>244</td>\n",
       "    </tr>\n",
       "    <tr>\n",
       "      <th>78</th>\n",
       "      <td>300</td>\n",
       "      <td>301</td>\n",
       "      <td>1</td>\n",
       "      <td>300</td>\n",
       "    </tr>\n",
       "  </tbody>\n",
       "</table>\n",
       "<p>79 rows × 4 columns</p>\n",
       "</div>"
      ],
      "text/plain": [
       "    ACTUAL  PREDICTED_VALUES  ERROR_ABS  MEAN_VALUES\n",
       "0      265               275         10          270\n",
       "1      337               339          2          338\n",
       "2      258               261          3          260\n",
       "3      228               231          3          230\n",
       "4      448               457          9          452\n",
       "..     ...               ...        ...          ...\n",
       "74     532               545         13          538\n",
       "75     334               358         24          346\n",
       "76     336               363         27          350\n",
       "77     244               244          0          244\n",
       "78     300               301          1          300\n",
       "\n",
       "[79 rows x 4 columns]"
      ]
     },
     "execution_count": 21,
     "metadata": {},
     "output_type": "execute_result"
    }
   ],
   "source": [
    "syntetic"
   ]
  },
  {
   "cell_type": "code",
   "execution_count": 22,
   "id": "8385cbe4-8392-4712-b6ef-77ca35eb5e2c",
   "metadata": {},
   "outputs": [],
   "source": [
    "# syntetic.to_csv(\"syntetic.csv\")"
   ]
  },
  {
   "cell_type": "code",
   "execution_count": 23,
   "id": "7715ddc0-798c-4890-bc9c-bf79fbe938d5",
   "metadata": {},
   "outputs": [
    {
     "data": {
      "image/png": "[encoded data removed]",
      "text/plain": [
       "<Figure size 640x480 with 1 Axes>"
      ]
     },
     "metadata": {},
     "output_type": "display_data"
    }
   ],
   "source": [
    "viz = residuals_plot(model, \n",
    "                     X_train_scaled, \n",
    "                     y_train, \n",
    "                     X_test_scaled, \n",
    "                     y_test,\n",
    "                     hist=False)\n",
    "\n",
    "viz.show();"
   ]
  },
  {
   "cell_type": "code",
   "execution_count": 24,
   "id": "22f642a3-890f-42f4-8e7c-eb291279da7d",
   "metadata": {},
   "outputs": [
    {
     "data": {
      "image/png": "[encoded data removed]",
      "text/plain": [
       "<Figure size 1200x500 with 2 Axes>"
      ]
     },
     "metadata": {},
     "output_type": "display_data"
    }
   ],
   "source": [
    "fig, axs = plt.subplots(nrows=1, ncols=2, figsize=(12, 5))\n",
    "\n",
    "PredictionErrorDisplay.from_estimator(\n",
    "    model, \n",
    "    X_test_scaled,\n",
    "    y_test,\n",
    "    kind=\"actual_vs_predicted\",\n",
    "    ax=axs[0]\n",
    ");\n",
    "\n",
    "PredictionErrorDisplay.from_estimator(\n",
    "    model,\n",
    "    X_test_scaled,\n",
    "    y_test,\n",
    "    kind=\"residual_vs_predicted\", \n",
    "    ax=axs[1]\n",
    ");"
   ]
  },
  {
   "cell_type": "code",
   "execution_count": null,
   "id": "89ee000e-e2ec-465e-a35e-5889104f4ca4",
   "metadata": {},
   "outputs": [],
   "source": []
  }
 ],
 "metadata": {
  "kernelspec": {
   "display_name": "Python 3 (ipykernel)",
   "language": "python",
   "name": "python3"
  },
  "language_info": {
   "codemirror_mode": {
    "name": "ipython",
    "version": 3
   },
   "file_extension": ".py",
   "mimetype": "text/x-python",
   "name": "python",
   "nbconvert_exporter": "python",
   "pygments_lexer": "ipython3",
   "version": "3.9.13"
  }
 },
 "nbformat": 4,
 "nbformat_minor": 5
}
